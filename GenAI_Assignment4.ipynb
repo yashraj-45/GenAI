{
  "nbformat": 4,
  "nbformat_minor": 0,
  "metadata": {
    "colab": {
      "provenance": []
    },
    "kernelspec": {
      "name": "python3",
      "display_name": "Python 3"
    },
    "language_info": {
      "name": "python"
    }
  },
  "cells": [
    {
      "cell_type": "code",
      "source": [
        "!pip install google-generativeai"
      ],
      "metadata": {
        "colab": {
          "base_uri": "https://localhost:8080/"
        },
        "id": "nYplxJFfMswG",
        "outputId": "3d987291-04cf-42a4-e4e1-0e99e904d9cb"
      },
      "execution_count": 1,
      "outputs": [
        {
          "output_type": "stream",
          "name": "stdout",
          "text": [
            "Requirement already satisfied: google-generativeai in /usr/local/lib/python3.11/dist-packages (0.8.4)\n",
            "Requirement already satisfied: google-ai-generativelanguage==0.6.15 in /usr/local/lib/python3.11/dist-packages (from google-generativeai) (0.6.15)\n",
            "Requirement already satisfied: google-api-core in /usr/local/lib/python3.11/dist-packages (from google-generativeai) (2.19.2)\n",
            "Requirement already satisfied: google-api-python-client in /usr/local/lib/python3.11/dist-packages (from google-generativeai) (2.160.0)\n",
            "Requirement already satisfied: google-auth>=2.15.0 in /usr/local/lib/python3.11/dist-packages (from google-generativeai) (2.27.0)\n",
            "Requirement already satisfied: protobuf in /usr/local/lib/python3.11/dist-packages (from google-generativeai) (4.25.6)\n",
            "Requirement already satisfied: pydantic in /usr/local/lib/python3.11/dist-packages (from google-generativeai) (2.10.6)\n",
            "Requirement already satisfied: tqdm in /usr/local/lib/python3.11/dist-packages (from google-generativeai) (4.67.1)\n",
            "Requirement already satisfied: typing-extensions in /usr/local/lib/python3.11/dist-packages (from google-generativeai) (4.12.2)\n",
            "Requirement already satisfied: proto-plus<2.0.0dev,>=1.22.3 in /usr/local/lib/python3.11/dist-packages (from google-ai-generativelanguage==0.6.15->google-generativeai) (1.26.0)\n",
            "Requirement already satisfied: googleapis-common-protos<2.0.dev0,>=1.56.2 in /usr/local/lib/python3.11/dist-packages (from google-api-core->google-generativeai) (1.66.0)\n",
            "Requirement already satisfied: requests<3.0.0.dev0,>=2.18.0 in /usr/local/lib/python3.11/dist-packages (from google-api-core->google-generativeai) (2.32.3)\n",
            "Requirement already satisfied: cachetools<6.0,>=2.0.0 in /usr/local/lib/python3.11/dist-packages (from google-auth>=2.15.0->google-generativeai) (5.5.1)\n",
            "Requirement already satisfied: pyasn1-modules>=0.2.1 in /usr/local/lib/python3.11/dist-packages (from google-auth>=2.15.0->google-generativeai) (0.4.1)\n",
            "Requirement already satisfied: rsa<5,>=3.1.4 in /usr/local/lib/python3.11/dist-packages (from google-auth>=2.15.0->google-generativeai) (4.9)\n",
            "Requirement already satisfied: httplib2<1.dev0,>=0.19.0 in /usr/local/lib/python3.11/dist-packages (from google-api-python-client->google-generativeai) (0.22.0)\n",
            "Requirement already satisfied: google-auth-httplib2<1.0.0,>=0.2.0 in /usr/local/lib/python3.11/dist-packages (from google-api-python-client->google-generativeai) (0.2.0)\n",
            "Requirement already satisfied: uritemplate<5,>=3.0.1 in /usr/local/lib/python3.11/dist-packages (from google-api-python-client->google-generativeai) (4.1.1)\n",
            "Requirement already satisfied: annotated-types>=0.6.0 in /usr/local/lib/python3.11/dist-packages (from pydantic->google-generativeai) (0.7.0)\n",
            "Requirement already satisfied: pydantic-core==2.27.2 in /usr/local/lib/python3.11/dist-packages (from pydantic->google-generativeai) (2.27.2)\n",
            "Requirement already satisfied: grpcio<2.0dev,>=1.33.2 in /usr/local/lib/python3.11/dist-packages (from google-api-core[grpc]!=2.0.*,!=2.1.*,!=2.10.*,!=2.2.*,!=2.3.*,!=2.4.*,!=2.5.*,!=2.6.*,!=2.7.*,!=2.8.*,!=2.9.*,<3.0.0dev,>=1.34.1->google-ai-generativelanguage==0.6.15->google-generativeai) (1.70.0)\n",
            "Requirement already satisfied: grpcio-status<2.0.dev0,>=1.33.2 in /usr/local/lib/python3.11/dist-packages (from google-api-core[grpc]!=2.0.*,!=2.1.*,!=2.10.*,!=2.2.*,!=2.3.*,!=2.4.*,!=2.5.*,!=2.6.*,!=2.7.*,!=2.8.*,!=2.9.*,<3.0.0dev,>=1.34.1->google-ai-generativelanguage==0.6.15->google-generativeai) (1.62.3)\n",
            "Requirement already satisfied: pyparsing!=3.0.0,!=3.0.1,!=3.0.2,!=3.0.3,<4,>=2.4.2 in /usr/local/lib/python3.11/dist-packages (from httplib2<1.dev0,>=0.19.0->google-api-python-client->google-generativeai) (3.2.1)\n",
            "Requirement already satisfied: pyasn1<0.7.0,>=0.4.6 in /usr/local/lib/python3.11/dist-packages (from pyasn1-modules>=0.2.1->google-auth>=2.15.0->google-generativeai) (0.6.1)\n",
            "Requirement already satisfied: charset-normalizer<4,>=2 in /usr/local/lib/python3.11/dist-packages (from requests<3.0.0.dev0,>=2.18.0->google-api-core->google-generativeai) (3.4.1)\n",
            "Requirement already satisfied: idna<4,>=2.5 in /usr/local/lib/python3.11/dist-packages (from requests<3.0.0.dev0,>=2.18.0->google-api-core->google-generativeai) (3.10)\n",
            "Requirement already satisfied: urllib3<3,>=1.21.1 in /usr/local/lib/python3.11/dist-packages (from requests<3.0.0.dev0,>=2.18.0->google-api-core->google-generativeai) (2.3.0)\n",
            "Requirement already satisfied: certifi>=2017.4.17 in /usr/local/lib/python3.11/dist-packages (from requests<3.0.0.dev0,>=2.18.0->google-api-core->google-generativeai) (2025.1.31)\n"
          ]
        }
      ]
    },
    {
      "cell_type": "code",
      "execution_count": 2,
      "metadata": {
        "id": "2spy1YNtMPJM"
      },
      "outputs": [],
      "source": [
        "from google.colab import userdata\n",
        "import google.generativeai as genai\n",
        "\n",
        "key = userdata.get('GOOGLE_API_KEY')\n",
        "genai.configure(api_key=key)\n",
        "model = genai.GenerativeModel('gemini-1.5-flash')"
      ]
    },
    {
      "cell_type": "code",
      "source": [
        "def chatbot():\n",
        "  print(\"Hello! 👋 How can I assist you today? Ask me anything!(Type 'Exit/Quit/Finish' to end the conversation!)\\n\")\n",
        "\n",
        "  while True:\n",
        "    user_input = input(\"You: \")\n",
        "    if user_input.lower() == 'exit' or user_input.lower() == 'quit' or user_input.lower() == 'finish':\n",
        "      print(\"Goodbye! 👋\")\n",
        "      break\n",
        "    response = model.generate_content(user_input)\n",
        "    print(\"Bot: \" + response.text)\n",
        "\n",
        "chatbot()"
      ],
      "metadata": {
        "colab": {
          "base_uri": "https://localhost:8080/",
          "height": 1000
        },
        "id": "8QHlIzsdND5K",
        "outputId": "cee11582-2f69-41e3-a037-ad5d2419fc50"
      },
      "execution_count": 4,
      "outputs": [
        {
          "output_type": "stream",
          "name": "stdout",
          "text": [
            "Hello! 👋 How can I assist you today? Ask me anything!(Type 'Exit/Quit/Finish' to end the conversation!)\n",
            "\n",
            "You: Can you give me the code to print Hello World\n",
            "Bot: The code to print \"Hello, World!\" varies slightly depending on the programming language. Here are a few examples:\n",
            "\n",
            "**Python:**\n",
            "\n",
            "```python\n",
            "print(\"Hello, World!\")\n",
            "```\n",
            "\n",
            "**Java:**\n",
            "\n",
            "```java\n",
            "public class Main {\n",
            "  public static void main(String[] args) {\n",
            "    System.out.println(\"Hello, World!\");\n",
            "  }\n",
            "}\n",
            "```\n",
            "\n",
            "**C++:**\n",
            "\n",
            "```c++\n",
            "#include <iostream>\n",
            "\n",
            "int main() {\n",
            "  std::cout << \"Hello, World!\" << std::endl;\n",
            "  return 0;\n",
            "}\n",
            "```\n",
            "\n",
            "**JavaScript:**\n",
            "\n",
            "```javascript\n",
            "console.log(\"Hello, World!\");\n",
            "```\n",
            "\n",
            "**C#:**\n",
            "\n",
            "```csharp\n",
            "using System;\n",
            "\n",
            "public class HelloWorld {\n",
            "  public static void Main(string[] args) {\n",
            "    Console.WriteLine(\"Hello, World!\");\n",
            "  }\n",
            "}\n",
            "```\n",
            "\n",
            "**Go:**\n",
            "\n",
            "```go\n",
            "package main\n",
            "\n",
            "import \"fmt\"\n",
            "\n",
            "func main() {\n",
            "  fmt.Println(\"Hello, World!\")\n",
            "}\n",
            "```\n",
            "\n",
            "**PHP:**\n",
            "\n",
            "```php\n",
            "<?php\n",
            "echo \"Hello, World!\";\n",
            "?>\n",
            "```\n",
            "\n",
            "Remember to save the code with the appropriate file extension (e.g., `.py` for Python, `.java` for Java, etc.) and then compile and run it using a suitable compiler or interpreter for the chosen language.\n",
            "\n",
            "You: Give me steps to write an essay.\n",
            "Bot: Writing an essay can be broken down into manageable steps.  Here's a process you can follow:\n",
            "\n",
            "**I. Pre-Writing (Planning & Research):**\n",
            "\n",
            "1. **Understand the Prompt:** Carefully read and analyze the essay prompt. Identify the key words, the task (e.g., analyze, compare, argue), and any specific instructions or limitations.  What is the essay asking you to *do*?\n",
            "\n",
            "2. **Brainstorming & Idea Generation:** Generate ideas related to the prompt. Use techniques like freewriting, mind mapping, listing, or outlining to explore different perspectives and arguments.\n",
            "\n",
            "3. **Research (if necessary):** Gather information from credible sources to support your ideas. Take notes, cite your sources properly, and evaluate the reliability of your sources.\n",
            "\n",
            "4. **Thesis Statement:** Develop a clear and concise thesis statement that presents your main argument or point of view. This statement should be arguable (not a simple statement of fact) and guide the entire essay.\n",
            "\n",
            "5. **Outline:** Create a structured outline organizing your thoughts into paragraphs.  Each paragraph should focus on a specific aspect of your argument, supporting your thesis statement.  This outline will serve as your roadmap.  A typical essay structure includes:\n",
            "    * **Introduction:**  Hook, background information, thesis statement.\n",
            "    * **Body Paragraphs (3-5 typically):** Each paragraph should have a topic sentence (supporting the thesis), evidence/examples, analysis/explanation, and a concluding sentence linking to the next paragraph.\n",
            "    * **Conclusion:** Restatement of thesis (in different words), summary of main points, final thought or call to action.\n",
            "\n",
            "**II. Writing the Essay:**\n",
            "\n",
            "6. **Introduction:** Write a compelling introduction that grabs the reader's attention (hook – a compelling statistic, anecdote, question, etc.), provides necessary background information, and clearly states your thesis statement.\n",
            "\n",
            "7. **Body Paragraphs:** Develop each body paragraph according to your outline.  Ensure each paragraph has a clear topic sentence, supporting evidence (facts, statistics, examples, quotations), analysis (explain how the evidence supports your point), and a concluding sentence that transitions to the next paragraph.\n",
            "\n",
            "8. **Conclusion:** Write a conclusion that summarizes your main points, restates your thesis in a new way, and offers a final thought or reflection. Avoid introducing new information in the conclusion.\n",
            "\n",
            "**III. Revising & Editing:**\n",
            "\n",
            "9. **Review & Revise:** Once you've written a first draft, take a break and then review your essay.  Check for clarity, coherence, and logical flow.  Ensure your arguments are well-supported and your thesis statement is effectively addressed throughout the essay.  Consider revising your structure, adding or removing information, and strengthening your arguments.\n",
            "\n",
            "10. **Edit:** After revising, edit your essay for grammar, spelling, punctuation, and style.  Read your essay aloud to catch errors you might miss when reading silently.  Consider using grammar-checking tools, but remember that they are not perfect and should not replace careful proofreading.\n",
            "\n",
            "11. **Proofread:** A final proofread is essential to catch any remaining errors.  It's helpful to have someone else proofread your essay as well, as they may catch errors you've missed.\n",
            "\n",
            "**IV. Final Steps:**\n",
            "\n",
            "12. **Citation & Formatting:**  Format your essay according to the required style guide (MLA, APA, Chicago, etc.).  Properly cite all sources to avoid plagiarism.\n",
            "\n",
            "13. **Submission:** Submit your essay according to the given instructions.\n",
            "\n",
            "\n",
            "Remember that writing is an iterative process.  Don't be afraid to revise and rewrite multiple times until you are satisfied with your work.  The more you practice, the better you will become at writing essays.\n",
            "\n",
            "You: finish\n",
            "Goodbye! 👋\n"
          ]
        }
      ]
    }
  ]
}